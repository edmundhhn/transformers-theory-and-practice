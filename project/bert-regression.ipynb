{
 "cells": [
  {
   "cell_type": "markdown",
   "id": "51bf8285-1ad5-480c-ad02-07deb6042ae1",
   "metadata": {},
   "source": [
    "# Fine-Tuning Bert for Price Regression"
   ]
  },
  {
   "cell_type": "markdown",
   "id": "5e617725-36d1-4dc5-997c-7afeb738a991",
   "metadata": {},
   "source": [
    "## Dependencies"
   ]
  },
  {
   "cell_type": "code",
   "execution_count": 1,
   "id": "57c404f9-9b5a-4fa2-bef6-22637216ccde",
   "metadata": {},
   "outputs": [
    {
     "name": "stderr",
     "output_type": "stream",
     "text": [
      "/Users/eddie/opt/anaconda3/envs/transformers/lib/python3.12/site-packages/tqdm/auto.py:21: TqdmWarning: IProgress not found. Please update jupyter and ipywidgets. See https://ipywidgets.readthedocs.io/en/stable/user_install.html\n",
      "  from .autonotebook import tqdm as notebook_tqdm\n",
      "/Users/eddie/opt/anaconda3/envs/transformers/lib/python3.12/site-packages/transformers/utils/generic.py:311: UserWarning: torch.utils._pytree._register_pytree_node is deprecated. Please use torch.utils._pytree.register_pytree_node instead.\n",
      "  torch.utils._pytree._register_pytree_node(\n",
      "/Users/eddie/opt/anaconda3/envs/transformers/lib/python3.12/site-packages/transformers/utils/generic.py:311: UserWarning: torch.utils._pytree._register_pytree_node is deprecated. Please use torch.utils._pytree.register_pytree_node instead.\n",
      "  torch.utils._pytree._register_pytree_node(\n"
     ]
    }
   ],
   "source": [
    "import numpy as np\n",
    "import pandas as pd\n",
    "\n",
    "import torch\n",
    "import torch.nn as nn\n",
    "from torch.utils.data import DataLoader, Dataset\n",
    "\n",
    "from sklearn.model_selection import train_test_split\n",
    "from sklearn.metrics import mean_squared_error\n",
    "\n",
    "from transformers import BertModel, BertTokenizer\n",
    "\n",
    "import gradio as gr"
   ]
  },
  {
   "cell_type": "markdown",
   "id": "849665fd-e2a0-4e22-8015-b959dafd2a27",
   "metadata": {},
   "source": [
    "## Load and Preprocess Data"
   ]
  },
  {
   "cell_type": "code",
   "execution_count": 2,
   "id": "12cf741b-1a36-4b34-8887-a768d3f82eea",
   "metadata": {},
   "outputs": [],
   "source": [
    "# REPLACE WITH DATA PATH\n",
    "PATH_TO_DATA = \"../../mercari-data/train.tsv\"\n",
    "#PATH_TO_DATA = \"../../data\""
   ]
  },
  {
   "cell_type": "code",
   "execution_count": 3,
   "id": "0134773e-b6a8-4196-8700-70055bbceb6f",
   "metadata": {},
   "outputs": [],
   "source": [
    "df = pd.read_csv(PATH_TO_DATA, sep=\"\\t\", index_col=\"train_id\")"
   ]
  },
  {
   "cell_type": "code",
   "execution_count": 4,
   "id": "1f2cb417-9c4f-42a8-a44b-9403b6191f22",
   "metadata": {},
   "outputs": [
    {
     "data": {
      "text/html": [
       "<div>\n",
       "<style scoped>\n",
       "    .dataframe tbody tr th:only-of-type {\n",
       "        vertical-align: middle;\n",
       "    }\n",
       "\n",
       "    .dataframe tbody tr th {\n",
       "        vertical-align: top;\n",
       "    }\n",
       "\n",
       "    .dataframe thead th {\n",
       "        text-align: right;\n",
       "    }\n",
       "</style>\n",
       "<table border=\"1\" class=\"dataframe\">\n",
       "  <thead>\n",
       "    <tr style=\"text-align: right;\">\n",
       "      <th></th>\n",
       "      <th>name</th>\n",
       "      <th>item_condition_id</th>\n",
       "      <th>category_name</th>\n",
       "      <th>brand_name</th>\n",
       "      <th>price</th>\n",
       "      <th>shipping</th>\n",
       "      <th>item_description</th>\n",
       "    </tr>\n",
       "    <tr>\n",
       "      <th>train_id</th>\n",
       "      <th></th>\n",
       "      <th></th>\n",
       "      <th></th>\n",
       "      <th></th>\n",
       "      <th></th>\n",
       "      <th></th>\n",
       "      <th></th>\n",
       "    </tr>\n",
       "  </thead>\n",
       "  <tbody>\n",
       "    <tr>\n",
       "      <th>0</th>\n",
       "      <td>MLB Cincinnati Reds T Shirt Size XL</td>\n",
       "      <td>3</td>\n",
       "      <td>Men/Tops/T-shirts</td>\n",
       "      <td>NaN</td>\n",
       "      <td>10.0</td>\n",
       "      <td>1</td>\n",
       "      <td>No description yet</td>\n",
       "    </tr>\n",
       "    <tr>\n",
       "      <th>1</th>\n",
       "      <td>Razer BlackWidow Chroma Keyboard</td>\n",
       "      <td>3</td>\n",
       "      <td>Electronics/Computers &amp; Tablets/Components &amp; P...</td>\n",
       "      <td>Razer</td>\n",
       "      <td>52.0</td>\n",
       "      <td>0</td>\n",
       "      <td>This keyboard is in great condition and works ...</td>\n",
       "    </tr>\n",
       "    <tr>\n",
       "      <th>2</th>\n",
       "      <td>AVA-VIV Blouse</td>\n",
       "      <td>1</td>\n",
       "      <td>Women/Tops &amp; Blouses/Blouse</td>\n",
       "      <td>Target</td>\n",
       "      <td>10.0</td>\n",
       "      <td>1</td>\n",
       "      <td>Adorable top with a hint of lace and a key hol...</td>\n",
       "    </tr>\n",
       "    <tr>\n",
       "      <th>3</th>\n",
       "      <td>Leather Horse Statues</td>\n",
       "      <td>1</td>\n",
       "      <td>Home/Home Décor/Home Décor Accents</td>\n",
       "      <td>NaN</td>\n",
       "      <td>35.0</td>\n",
       "      <td>1</td>\n",
       "      <td>New with tags. Leather horses. Retail for [rm]...</td>\n",
       "    </tr>\n",
       "    <tr>\n",
       "      <th>4</th>\n",
       "      <td>24K GOLD plated rose</td>\n",
       "      <td>1</td>\n",
       "      <td>Women/Jewelry/Necklaces</td>\n",
       "      <td>NaN</td>\n",
       "      <td>44.0</td>\n",
       "      <td>0</td>\n",
       "      <td>Complete with certificate of authenticity</td>\n",
       "    </tr>\n",
       "    <tr>\n",
       "      <th>...</th>\n",
       "      <td>...</td>\n",
       "      <td>...</td>\n",
       "      <td>...</td>\n",
       "      <td>...</td>\n",
       "      <td>...</td>\n",
       "      <td>...</td>\n",
       "      <td>...</td>\n",
       "    </tr>\n",
       "    <tr>\n",
       "      <th>1482530</th>\n",
       "      <td>Free People Inspired Dress</td>\n",
       "      <td>2</td>\n",
       "      <td>Women/Dresses/Mid-Calf</td>\n",
       "      <td>Free People</td>\n",
       "      <td>20.0</td>\n",
       "      <td>1</td>\n",
       "      <td>Lace, says size small but fits medium perfectl...</td>\n",
       "    </tr>\n",
       "    <tr>\n",
       "      <th>1482531</th>\n",
       "      <td>Little mermaid handmade dress</td>\n",
       "      <td>2</td>\n",
       "      <td>Kids/Girls 2T-5T/Dresses</td>\n",
       "      <td>Disney</td>\n",
       "      <td>14.0</td>\n",
       "      <td>0</td>\n",
       "      <td>Little mermaid handmade dress never worn size 2t</td>\n",
       "    </tr>\n",
       "    <tr>\n",
       "      <th>1482532</th>\n",
       "      <td>21 day fix containers and eating plan</td>\n",
       "      <td>2</td>\n",
       "      <td>Sports &amp; Outdoors/Exercise/Fitness accessories</td>\n",
       "      <td>NaN</td>\n",
       "      <td>12.0</td>\n",
       "      <td>0</td>\n",
       "      <td>Used once or twice, still in great shape.</td>\n",
       "    </tr>\n",
       "    <tr>\n",
       "      <th>1482533</th>\n",
       "      <td>World markets lanterns</td>\n",
       "      <td>3</td>\n",
       "      <td>Home/Home Décor/Home Décor Accents</td>\n",
       "      <td>NaN</td>\n",
       "      <td>45.0</td>\n",
       "      <td>1</td>\n",
       "      <td>There is 2 of each one that you see! So 2 red ...</td>\n",
       "    </tr>\n",
       "    <tr>\n",
       "      <th>1482534</th>\n",
       "      <td>Brand new lux de ville wallet</td>\n",
       "      <td>1</td>\n",
       "      <td>Women/Women's Accessories/Wallets</td>\n",
       "      <td>NaN</td>\n",
       "      <td>22.0</td>\n",
       "      <td>0</td>\n",
       "      <td>New with tag, red with sparkle. Firm price, no...</td>\n",
       "    </tr>\n",
       "  </tbody>\n",
       "</table>\n",
       "<p>1482535 rows × 7 columns</p>\n",
       "</div>"
      ],
      "text/plain": [
       "                                           name  item_condition_id  \\\n",
       "train_id                                                             \n",
       "0           MLB Cincinnati Reds T Shirt Size XL                  3   \n",
       "1              Razer BlackWidow Chroma Keyboard                  3   \n",
       "2                                AVA-VIV Blouse                  1   \n",
       "3                         Leather Horse Statues                  1   \n",
       "4                          24K GOLD plated rose                  1   \n",
       "...                                         ...                ...   \n",
       "1482530              Free People Inspired Dress                  2   \n",
       "1482531           Little mermaid handmade dress                  2   \n",
       "1482532   21 day fix containers and eating plan                  2   \n",
       "1482533                  World markets lanterns                  3   \n",
       "1482534           Brand new lux de ville wallet                  1   \n",
       "\n",
       "                                              category_name   brand_name  \\\n",
       "train_id                                                                   \n",
       "0                                         Men/Tops/T-shirts          NaN   \n",
       "1         Electronics/Computers & Tablets/Components & P...        Razer   \n",
       "2                               Women/Tops & Blouses/Blouse       Target   \n",
       "3                        Home/Home Décor/Home Décor Accents          NaN   \n",
       "4                                   Women/Jewelry/Necklaces          NaN   \n",
       "...                                                     ...          ...   \n",
       "1482530                              Women/Dresses/Mid-Calf  Free People   \n",
       "1482531                            Kids/Girls 2T-5T/Dresses       Disney   \n",
       "1482532      Sports & Outdoors/Exercise/Fitness accessories          NaN   \n",
       "1482533                  Home/Home Décor/Home Décor Accents          NaN   \n",
       "1482534                   Women/Women's Accessories/Wallets          NaN   \n",
       "\n",
       "          price  shipping                                   item_description  \n",
       "train_id                                                                      \n",
       "0          10.0         1                                 No description yet  \n",
       "1          52.0         0  This keyboard is in great condition and works ...  \n",
       "2          10.0         1  Adorable top with a hint of lace and a key hol...  \n",
       "3          35.0         1  New with tags. Leather horses. Retail for [rm]...  \n",
       "4          44.0         0          Complete with certificate of authenticity  \n",
       "...         ...       ...                                                ...  \n",
       "1482530    20.0         1  Lace, says size small but fits medium perfectl...  \n",
       "1482531    14.0         0   Little mermaid handmade dress never worn size 2t  \n",
       "1482532    12.0         0          Used once or twice, still in great shape.  \n",
       "1482533    45.0         1  There is 2 of each one that you see! So 2 red ...  \n",
       "1482534    22.0         0  New with tag, red with sparkle. Firm price, no...  \n",
       "\n",
       "[1482535 rows x 7 columns]"
      ]
     },
     "execution_count": 4,
     "metadata": {},
     "output_type": "execute_result"
    }
   ],
   "source": [
    "df"
   ]
  },
  {
   "cell_type": "code",
   "execution_count": 5,
   "id": "bcdb7dd2-31d9-4399-94c8-aa08c8b0d48b",
   "metadata": {},
   "outputs": [],
   "source": [
    "# subset data to make it faster (DELETE IN LATER RUN)\n",
    "df = df.head(25)"
   ]
  },
  {
   "cell_type": "code",
   "execution_count": 6,
   "id": "263e8a8d-ccee-44df-abb7-fd16262c3c24",
   "metadata": {},
   "outputs": [
    {
     "data": {
      "text/plain": [
       "name                 0\n",
       "item_condition_id    0\n",
       "category_name        0\n",
       "brand_name           7\n",
       "price                0\n",
       "shipping             0\n",
       "item_description     0\n",
       "dtype: int64"
      ]
     },
     "execution_count": 6,
     "metadata": {},
     "output_type": "execute_result"
    }
   ],
   "source": [
    "df.isna().sum()"
   ]
  },
  {
   "cell_type": "code",
   "execution_count": 7,
   "id": "ea19d34d-fb97-4a9e-80f6-68d69a6bf903",
   "metadata": {},
   "outputs": [],
   "source": [
    "condition_mapper = {1:\"Poor\", 2:\"Okay\", 3:\"Good\", 4:\"Excellent\", 5:\"Like New\"}\n",
    "shipping_mapper = {0: \"No Shipping\", 1: \"Includes Shipping\"}"
   ]
  },
  {
   "cell_type": "code",
   "execution_count": 8,
   "id": "26484f02-b562-455a-825d-901377668194",
   "metadata": {},
   "outputs": [
    {
     "name": "stderr",
     "output_type": "stream",
     "text": [
      "/var/folders/4j/pyrzwxfd7mdc46pt6s7g92bh0000gn/T/ipykernel_83523/2282102246.py:1: SettingWithCopyWarning: \n",
      "A value is trying to be set on a copy of a slice from a DataFrame.\n",
      "Try using .loc[row_indexer,col_indexer] = value instead\n",
      "\n",
      "See the caveats in the documentation: https://pandas.pydata.org/pandas-docs/stable/user_guide/indexing.html#returning-a-view-versus-a-copy\n",
      "  df[\"brand_name\"] = df[\"brand_name\"].fillna(\"No Brand\")\n"
     ]
    }
   ],
   "source": [
    "df[\"brand_name\"] = df[\"brand_name\"].fillna(\"No Brand\")"
   ]
  },
  {
   "cell_type": "code",
   "execution_count": 9,
   "id": "652e366c-d1d1-4037-8e9c-63d8e0fbc841",
   "metadata": {},
   "outputs": [
    {
     "name": "stderr",
     "output_type": "stream",
     "text": [
      "/var/folders/4j/pyrzwxfd7mdc46pt6s7g92bh0000gn/T/ipykernel_83523/196951432.py:1: FutureWarning: Setting an item of incompatible dtype is deprecated and will raise in a future error of pandas. Value '['Good' 'Good' 'Poor' 'Poor' 'Poor' 'Good' 'Good' 'Good' 'Good' 'Good'\n",
      " 'Okay' 'Poor' 'Okay' 'Poor' 'Good' 'Poor' 'Poor' 'Poor' 'Poor' 'Okay'\n",
      " 'Good' 'Poor' 'Good' 'Poor' 'Okay']' has dtype incompatible with int64, please explicitly cast to a compatible dtype first.\n",
      "  df.loc[:,\"item_condition_id\"] = df[\"item_condition_id\"].map(condition_mapper).astype(str)\n",
      "/var/folders/4j/pyrzwxfd7mdc46pt6s7g92bh0000gn/T/ipykernel_83523/196951432.py:2: FutureWarning: Setting an item of incompatible dtype is deprecated and will raise in a future error of pandas. Value '['Includes Shipping' 'No Shipping' 'Includes Shipping' 'Includes Shipping'\n",
      " 'No Shipping' 'No Shipping' 'No Shipping' 'Includes Shipping'\n",
      " 'No Shipping' 'No Shipping' 'Includes Shipping' 'No Shipping'\n",
      " 'No Shipping' 'Includes Shipping' 'No Shipping' 'Includes Shipping'\n",
      " 'Includes Shipping' 'Includes Shipping' 'Includes Shipping' 'No Shipping'\n",
      " 'Includes Shipping' 'No Shipping' 'No Shipping' 'Includes Shipping'\n",
      " 'No Shipping']' has dtype incompatible with int64, please explicitly cast to a compatible dtype first.\n",
      "  df.loc[:,\"shipping\"] = df[\"shipping\"].map(shipping_mapper).astype(str)\n"
     ]
    }
   ],
   "source": [
    "df.loc[:,\"item_condition_id\"] = df[\"item_condition_id\"].map(condition_mapper).astype(str)\n",
    "df.loc[:,\"shipping\"] = df[\"shipping\"].map(shipping_mapper).astype(str)"
   ]
  },
  {
   "cell_type": "code",
   "execution_count": 10,
   "id": "ad7fb6e1-649d-4b00-9c9e-6280ab84ad0f",
   "metadata": {},
   "outputs": [],
   "source": [
    "# to be suitable for the bert model, we create a dataset with \n",
    "combined = \"Item Name: \" + df[\"name\"] + \\\n",
    "            \" Description: \" + df[\"item_description\"] + \\\n",
    "            \" Condition: \" + df[\"item_condition_id\"] + \\\n",
    "            \" Category: \" + df[\"category_name\"] + \\\n",
    "            \" Brand \" + df[\"brand_name\"] + \\\n",
    "            \" Shipping: \" + df[\"shipping\"]"
   ]
  },
  {
   "cell_type": "code",
   "execution_count": 11,
   "id": "c3b13cf7-d01a-4838-8391-ed6cf127c1a4",
   "metadata": {},
   "outputs": [],
   "source": [
    "data = pd.concat([combined, df[\"price\"]], axis=1)\n",
    "data.columns = [\"description\", \"price\"]"
   ]
  },
  {
   "cell_type": "code",
   "execution_count": 12,
   "id": "b896cc25-b1fa-4024-8d62-b053d72e17d1",
   "metadata": {},
   "outputs": [
    {
     "data": {
      "text/html": [
       "<div>\n",
       "<style scoped>\n",
       "    .dataframe tbody tr th:only-of-type {\n",
       "        vertical-align: middle;\n",
       "    }\n",
       "\n",
       "    .dataframe tbody tr th {\n",
       "        vertical-align: top;\n",
       "    }\n",
       "\n",
       "    .dataframe thead th {\n",
       "        text-align: right;\n",
       "    }\n",
       "</style>\n",
       "<table border=\"1\" class=\"dataframe\">\n",
       "  <thead>\n",
       "    <tr style=\"text-align: right;\">\n",
       "      <th></th>\n",
       "      <th>description</th>\n",
       "      <th>price</th>\n",
       "    </tr>\n",
       "    <tr>\n",
       "      <th>train_id</th>\n",
       "      <th></th>\n",
       "      <th></th>\n",
       "    </tr>\n",
       "  </thead>\n",
       "  <tbody>\n",
       "    <tr>\n",
       "      <th>0</th>\n",
       "      <td>Item Name: MLB Cincinnati Reds T Shirt Size XL...</td>\n",
       "      <td>10.0</td>\n",
       "    </tr>\n",
       "    <tr>\n",
       "      <th>1</th>\n",
       "      <td>Item Name: Razer BlackWidow Chroma Keyboard De...</td>\n",
       "      <td>52.0</td>\n",
       "    </tr>\n",
       "    <tr>\n",
       "      <th>2</th>\n",
       "      <td>Item Name: AVA-VIV Blouse Description: Adorabl...</td>\n",
       "      <td>10.0</td>\n",
       "    </tr>\n",
       "    <tr>\n",
       "      <th>3</th>\n",
       "      <td>Item Name: Leather Horse Statues Description: ...</td>\n",
       "      <td>35.0</td>\n",
       "    </tr>\n",
       "    <tr>\n",
       "      <th>4</th>\n",
       "      <td>Item Name: 24K GOLD plated rose Description: C...</td>\n",
       "      <td>44.0</td>\n",
       "    </tr>\n",
       "    <tr>\n",
       "      <th>5</th>\n",
       "      <td>Item Name: Bundled items requested for Ruie De...</td>\n",
       "      <td>59.0</td>\n",
       "    </tr>\n",
       "    <tr>\n",
       "      <th>6</th>\n",
       "      <td>Item Name: Acacia pacific tides santorini top ...</td>\n",
       "      <td>64.0</td>\n",
       "    </tr>\n",
       "    <tr>\n",
       "      <th>7</th>\n",
       "      <td>Item Name: Girls cheer and tumbling bundle of ...</td>\n",
       "      <td>6.0</td>\n",
       "    </tr>\n",
       "    <tr>\n",
       "      <th>8</th>\n",
       "      <td>Item Name: Girls Nike Pro shorts Description: ...</td>\n",
       "      <td>19.0</td>\n",
       "    </tr>\n",
       "    <tr>\n",
       "      <th>9</th>\n",
       "      <td>Item Name: Porcelain clown doll checker pants ...</td>\n",
       "      <td>8.0</td>\n",
       "    </tr>\n",
       "    <tr>\n",
       "      <th>10</th>\n",
       "      <td>Item Name: Smashbox primer Description: 0.25 o...</td>\n",
       "      <td>8.0</td>\n",
       "    </tr>\n",
       "    <tr>\n",
       "      <th>11</th>\n",
       "      <td>Item Name: New vs pi k body mists Description:...</td>\n",
       "      <td>34.0</td>\n",
       "    </tr>\n",
       "    <tr>\n",
       "      <th>12</th>\n",
       "      <td>Item Name: Black Skater dress Description: Xl,...</td>\n",
       "      <td>16.0</td>\n",
       "    </tr>\n",
       "    <tr>\n",
       "      <th>13</th>\n",
       "      <td>Item Name: Sharpener and eraser Description: N...</td>\n",
       "      <td>4.0</td>\n",
       "    </tr>\n",
       "    <tr>\n",
       "      <th>14</th>\n",
       "      <td>Item Name: HOLD for Dogs2016 Minnetonka boots ...</td>\n",
       "      <td>43.0</td>\n",
       "    </tr>\n",
       "    <tr>\n",
       "      <th>15</th>\n",
       "      <td>Item Name: Sephora tarte birthday gift Descrip...</td>\n",
       "      <td>11.0</td>\n",
       "    </tr>\n",
       "    <tr>\n",
       "      <th>16</th>\n",
       "      <td>Item Name: Glitter Eyeshadow Description: 2 gl...</td>\n",
       "      <td>6.0</td>\n",
       "    </tr>\n",
       "    <tr>\n",
       "      <th>17</th>\n",
       "      <td>Item Name: New: Baby K'tan active baby carrier...</td>\n",
       "      <td>29.0</td>\n",
       "    </tr>\n",
       "    <tr>\n",
       "      <th>18</th>\n",
       "      <td>Item Name: Too Faced Limited \"Merry Macaroons\"...</td>\n",
       "      <td>25.0</td>\n",
       "    </tr>\n",
       "    <tr>\n",
       "      <th>19</th>\n",
       "      <td>Item Name: Cream/ Beige Front Cross Shirt Desc...</td>\n",
       "      <td>27.0</td>\n",
       "    </tr>\n",
       "    <tr>\n",
       "      <th>20</th>\n",
       "      <td>Item Name: Torrid Nautical Peplum Tube Top Des...</td>\n",
       "      <td>13.0</td>\n",
       "    </tr>\n",
       "    <tr>\n",
       "      <th>21</th>\n",
       "      <td>Item Name: NWT VS ULTIMATE SPORTS BRA 34ddd De...</td>\n",
       "      <td>20.0</td>\n",
       "    </tr>\n",
       "    <tr>\n",
       "      <th>22</th>\n",
       "      <td>Item Name: Galaxy S7 Edge (Unlocked) 32GB Desc...</td>\n",
       "      <td>386.0</td>\n",
       "    </tr>\n",
       "    <tr>\n",
       "      <th>23</th>\n",
       "      <td>Item Name: Triple car charger Description: Bra...</td>\n",
       "      <td>8.0</td>\n",
       "    </tr>\n",
       "    <tr>\n",
       "      <th>24</th>\n",
       "      <td>Item Name: Black and Red Baseball Tee Descript...</td>\n",
       "      <td>10.0</td>\n",
       "    </tr>\n",
       "  </tbody>\n",
       "</table>\n",
       "</div>"
      ],
      "text/plain": [
       "                                                description  price\n",
       "train_id                                                          \n",
       "0         Item Name: MLB Cincinnati Reds T Shirt Size XL...   10.0\n",
       "1         Item Name: Razer BlackWidow Chroma Keyboard De...   52.0\n",
       "2         Item Name: AVA-VIV Blouse Description: Adorabl...   10.0\n",
       "3         Item Name: Leather Horse Statues Description: ...   35.0\n",
       "4         Item Name: 24K GOLD plated rose Description: C...   44.0\n",
       "5         Item Name: Bundled items requested for Ruie De...   59.0\n",
       "6         Item Name: Acacia pacific tides santorini top ...   64.0\n",
       "7         Item Name: Girls cheer and tumbling bundle of ...    6.0\n",
       "8         Item Name: Girls Nike Pro shorts Description: ...   19.0\n",
       "9         Item Name: Porcelain clown doll checker pants ...    8.0\n",
       "10        Item Name: Smashbox primer Description: 0.25 o...    8.0\n",
       "11        Item Name: New vs pi k body mists Description:...   34.0\n",
       "12        Item Name: Black Skater dress Description: Xl,...   16.0\n",
       "13        Item Name: Sharpener and eraser Description: N...    4.0\n",
       "14        Item Name: HOLD for Dogs2016 Minnetonka boots ...   43.0\n",
       "15        Item Name: Sephora tarte birthday gift Descrip...   11.0\n",
       "16        Item Name: Glitter Eyeshadow Description: 2 gl...    6.0\n",
       "17        Item Name: New: Baby K'tan active baby carrier...   29.0\n",
       "18        Item Name: Too Faced Limited \"Merry Macaroons\"...   25.0\n",
       "19        Item Name: Cream/ Beige Front Cross Shirt Desc...   27.0\n",
       "20        Item Name: Torrid Nautical Peplum Tube Top Des...   13.0\n",
       "21        Item Name: NWT VS ULTIMATE SPORTS BRA 34ddd De...   20.0\n",
       "22        Item Name: Galaxy S7 Edge (Unlocked) 32GB Desc...  386.0\n",
       "23        Item Name: Triple car charger Description: Bra...    8.0\n",
       "24        Item Name: Black and Red Baseball Tee Descript...   10.0"
      ]
     },
     "execution_count": 12,
     "metadata": {},
     "output_type": "execute_result"
    }
   ],
   "source": [
    "data"
   ]
  },
  {
   "cell_type": "code",
   "execution_count": 54,
   "id": "6bf72af9-09aa-4ca0-94d7-a4ee553b2123",
   "metadata": {},
   "outputs": [
    {
     "name": "stdout",
     "output_type": "stream",
     "text": [
      "Data: Item Name: MLB Cincinnati Reds T Shirt Size XL Description: No description yet Condition: Good Category: Men/Tops/T-shirts Brand No Brand Shipping: Includes Shipping\n",
      "Label: 10.0\n"
     ]
    }
   ],
   "source": [
    "# inspect one item\n",
    "print(f\"Data: {data.loc[0][\"description\"]}\")\n",
    "print(f\"Label: {data.loc[0][\"price\"]}\")"
   ]
  },
  {
   "cell_type": "code",
   "execution_count": 74,
   "id": "faffa901-591c-432b-824a-15b64008d5f3",
   "metadata": {},
   "outputs": [
    {
     "data": {
      "text/plain": [
       "44.48"
      ]
     },
     "execution_count": 74,
     "metadata": {},
     "output_type": "execute_result"
    }
   ],
   "source": [
    "# check how long descriptions are\n",
    "data[\"description\"].str.split().str.len().mean()\n",
    "# we can use a max token length of ~80 later"
   ]
  },
  {
   "cell_type": "markdown",
   "id": "13cabe56-aa79-4022-a307-0c077f45713a",
   "metadata": {},
   "source": [
    "## Dataset and Regression Class"
   ]
  },
  {
   "cell_type": "code",
   "execution_count": 13,
   "id": "0f132a3c-5a06-43bc-a626-ee3a2929a042",
   "metadata": {},
   "outputs": [],
   "source": [
    "class RegressionDataset(Dataset):\n",
    "    def __init__(self, texts, labels, tokenizer, max_len):\n",
    "        self.texts = texts\n",
    "        self.labels = labels\n",
    "        self.tokenizer = tokenizer\n",
    "        self.max_len = max_len\n",
    "\n",
    "    def __len__(self):\n",
    "        return len(self.texts)\n",
    "\n",
    "    def __getitem__(self, idx):\n",
    "        text = str(self.texts[idx])\n",
    "        label = float(self.labels[idx])\n",
    "\n",
    "        inputs = self.tokenizer.encode_plus(\n",
    "            text,\n",
    "            None,\n",
    "            add_special_tokens=True,\n",
    "            max_length=self.max_len,\n",
    "            padding=\"max_length\",\n",
    "            truncation=True,\n",
    "            return_tensors=\"pt\"\n",
    "        )\n",
    "\n",
    "        return {\n",
    "            \"input_ids\": inputs[\"input_ids\"].flatten(),\n",
    "            \"attention_mask\": inputs[\"attention_mask\"].flatten(),\n",
    "            \"label\": torch.tensor(label, dtype=torch.float)\n",
    "        }\n",
    "\n",
    "\n",
    "class BERTRegression(nn.Module):\n",
    "    def __init__(self):\n",
    "        super(BERTRegression, self).__init__()\n",
    "        self.bert = BertModel.from_pretrained(\"bert-base-uncased\")\n",
    "        self.dropout = nn.Dropout(0.1)\n",
    "        self.linear = nn.Linear(self.bert.config.hidden_size, 1)\n",
    "\n",
    "    def forward(self, input_ids, attention_mask):\n",
    "        outputs = self.bert(input_ids=input_ids, attention_mask=attention_mask)\n",
    "        pooled_output = outputs.pooler_output\n",
    "        pooled_output = self.dropout(pooled_output)\n",
    "        logits = self.linear(pooled_output)\n",
    "        return logits.squeeze(-1)"
   ]
  },
  {
   "cell_type": "markdown",
   "id": "fbd174cd-a8d9-4d98-a61e-9c0efe149e0b",
   "metadata": {},
   "source": [
    "## Split Dataset and Instantiate Dataloaders"
   ]
  },
  {
   "cell_type": "code",
   "execution_count": 76,
   "id": "572d5bb8-50f4-4d6b-8410-a282f0dddcd9",
   "metadata": {},
   "outputs": [],
   "source": [
    "# Set data and targets\n",
    "texts = data.description.values\n",
    "labels = data.price.values"
   ]
  },
  {
   "cell_type": "code",
   "execution_count": 15,
   "id": "046e0d76-9eda-48d0-804b-c25427c2a38c",
   "metadata": {},
   "outputs": [],
   "source": [
    "# instantiate\n",
    "tokenizer = BertTokenizer.from_pretrained(\"bert-base-uncased\")\n",
    "max_len = 80"
   ]
  },
  {
   "cell_type": "code",
   "execution_count": 77,
   "id": "3186e748-2133-4b2d-a04d-8d0466d3154f",
   "metadata": {},
   "outputs": [],
   "source": [
    "# split data into training and test sets\n",
    "_texts, test_texts, _labels, test_labels = train_test_split(texts, labels, test_size=0.1, random_state=42)\n",
    "\n",
    "# split data into training and validation sets\n",
    "train_texts, val_texts, train_labels, val_labels = train_test_split(_texts, _labels, test_size=0.111, random_state=42)"
   ]
  },
  {
   "cell_type": "code",
   "execution_count": 17,
   "id": "503afc63-264f-4d6f-9206-ab25e10d40c1",
   "metadata": {},
   "outputs": [],
   "source": [
    "# Create datasets and data loaders\n",
    "train_dataset = RegressionDataset(train_texts, train_labels, tokenizer, max_len)\n",
    "val_dataset = RegressionDataset(val_texts, val_labels, tokenizer, max_len)\n",
    "\n",
    "train_loader = DataLoader(train_dataset, batch_size=8, shuffle=True)\n",
    "val_loader = DataLoader(val_dataset, batch_size=8, shuffle=False)"
   ]
  },
  {
   "cell_type": "markdown",
   "id": "f39132ff-c950-47d1-94cd-05170b863e07",
   "metadata": {},
   "source": [
    "## Instantiate Model and Set Training Parameters"
   ]
  },
  {
   "cell_type": "code",
   "execution_count": 18,
   "id": "0336a7cc-df72-45f4-bc95-bbc41c5b77e0",
   "metadata": {},
   "outputs": [
    {
     "data": {
      "text/plain": [
       "BERTRegression(\n",
       "  (bert): BertModel(\n",
       "    (embeddings): BertEmbeddings(\n",
       "      (word_embeddings): Embedding(30522, 768, padding_idx=0)\n",
       "      (position_embeddings): Embedding(512, 768)\n",
       "      (token_type_embeddings): Embedding(2, 768)\n",
       "      (LayerNorm): LayerNorm((768,), eps=1e-12, elementwise_affine=True)\n",
       "      (dropout): Dropout(p=0.1, inplace=False)\n",
       "    )\n",
       "    (encoder): BertEncoder(\n",
       "      (layer): ModuleList(\n",
       "        (0-11): 12 x BertLayer(\n",
       "          (attention): BertAttention(\n",
       "            (self): BertSelfAttention(\n",
       "              (query): Linear(in_features=768, out_features=768, bias=True)\n",
       "              (key): Linear(in_features=768, out_features=768, bias=True)\n",
       "              (value): Linear(in_features=768, out_features=768, bias=True)\n",
       "              (dropout): Dropout(p=0.1, inplace=False)\n",
       "            )\n",
       "            (output): BertSelfOutput(\n",
       "              (dense): Linear(in_features=768, out_features=768, bias=True)\n",
       "              (LayerNorm): LayerNorm((768,), eps=1e-12, elementwise_affine=True)\n",
       "              (dropout): Dropout(p=0.1, inplace=False)\n",
       "            )\n",
       "          )\n",
       "          (intermediate): BertIntermediate(\n",
       "            (dense): Linear(in_features=768, out_features=3072, bias=True)\n",
       "            (intermediate_act_fn): GELUActivation()\n",
       "          )\n",
       "          (output): BertOutput(\n",
       "            (dense): Linear(in_features=3072, out_features=768, bias=True)\n",
       "            (LayerNorm): LayerNorm((768,), eps=1e-12, elementwise_affine=True)\n",
       "            (dropout): Dropout(p=0.1, inplace=False)\n",
       "          )\n",
       "        )\n",
       "      )\n",
       "    )\n",
       "    (pooler): BertPooler(\n",
       "      (dense): Linear(in_features=768, out_features=768, bias=True)\n",
       "      (activation): Tanh()\n",
       "    )\n",
       "  )\n",
       "  (dropout): Dropout(p=0.1, inplace=False)\n",
       "  (linear): Linear(in_features=768, out_features=1, bias=True)\n",
       ")"
      ]
     },
     "execution_count": 18,
     "metadata": {},
     "output_type": "execute_result"
    }
   ],
   "source": [
    "# Instantiate the model, optimizer, and loss function\n",
    "model = BERTRegression()\n",
    "optimizer = torch.optim.AdamW(model.parameters(), lr=2e-5)\n",
    "criterion = nn.MSELoss()\n",
    "\n",
    "# Training loop\n",
    "num_epochs = 3\n",
    "device = torch.device(\"cuda\" if torch.cuda.is_available() else \"cpu\")\n",
    "model.to(device)"
   ]
  },
  {
   "cell_type": "markdown",
   "id": "b8e28468-77e2-4e29-bc35-c6a773e72f94",
   "metadata": {},
   "source": [
    "## Training Loop"
   ]
  },
  {
   "cell_type": "code",
   "execution_count": 19,
   "id": "0fef0714-55fb-4cd8-80b3-79b399146840",
   "metadata": {},
   "outputs": [
    {
     "name": "stdout",
     "output_type": "stream",
     "text": [
      "batch 1\n",
      "batch 2\n",
      "batch 3\n",
      "Epoch 1/3, Validation Loss: 318.81097412109375\n",
      "batch 1\n",
      "batch 2\n",
      "batch 3\n",
      "Epoch 2/3, Validation Loss: 301.62847900390625\n",
      "batch 1\n",
      "batch 2\n",
      "batch 3\n",
      "Epoch 3/3, Validation Loss: 292.0242919921875\n"
     ]
    }
   ],
   "source": [
    "for epoch in range(num_epochs):\n",
    "    model.train()\n",
    "\n",
    "    i = 0\n",
    "    for batch in train_loader:\n",
    "        input_ids = batch[\"input_ids\"].to(device)\n",
    "        attention_mask = batch[\"attention_mask\"].to(device)\n",
    "        labels = batch[\"label\"].to(device)\n",
    "\n",
    "        optimizer.zero_grad()\n",
    "        outputs = model(input_ids, attention_mask)\n",
    "        loss = criterion(outputs, labels)\n",
    "        loss.backward()\n",
    "        optimizer.step()\n",
    "\n",
    "        i += 1\n",
    "        if i // 10 == 0:\n",
    "            print(f\"batch {i}\")\n",
    "\n",
    "    # Validation loop\n",
    "    model.eval()\n",
    "    val_losses = []\n",
    "    with torch.no_grad():\n",
    "        for batch in val_loader:\n",
    "            input_ids = batch[\"input_ids\"].to(device)\n",
    "            attention_mask = batch[\"attention_mask\"].to(device)\n",
    "            labels = batch[\"label\"].to(device)\n",
    "\n",
    "            outputs = model(input_ids, attention_mask)\n",
    "            val_loss = criterion(outputs, labels)\n",
    "            val_losses.append(val_loss.item())\n",
    "\n",
    "    print(f\"Epoch {epoch+1}/{num_epochs}, Validation Loss: {np.mean(val_losses)}\")"
   ]
  },
  {
   "cell_type": "markdown",
   "id": "bf5c0362-3e49-4363-9a10-a92d3db1a4cb",
   "metadata": {},
   "source": [
    "## Test Loop"
   ]
  },
  {
   "cell_type": "code",
   "execution_count": 78,
   "id": "2765ccbc-7a23-4dd8-bfc7-8d1c12bc63d9",
   "metadata": {},
   "outputs": [
    {
     "name": "stdout",
     "output_type": "stream",
     "text": [
      "Mean Squared Error: 126.84798567886423\n"
     ]
    }
   ],
   "source": [
    "# Test the model\n",
    "# test_texts = [...]  # List of test texts\n",
    "# test_labels = [...]  # List of corresponding regression labels\n",
    "\n",
    "test_dataset = RegressionDataset(test_texts, test_labels, tokenizer, max_len)\n",
    "test_loader = DataLoader(test_dataset, batch_size=8, shuffle=False)\n",
    "\n",
    "model.eval()\n",
    "predictions = []\n",
    "with torch.no_grad():\n",
    "    for batch in test_loader:\n",
    "        input_ids = batch[\"input_ids\"].to(device)\n",
    "        attention_mask = batch[\"attention_mask\"].to(device)\n",
    "\n",
    "        outputs = model(input_ids, attention_mask)\n",
    "        predictions.extend(outputs.cpu().numpy())\n",
    "\n",
    "# Calculate and print mean squared error\n",
    "mse = mean_squared_error(test_labels, predictions)\n",
    "print(f\"Mean Squared Error: {mse}\")"
   ]
  },
  {
   "cell_type": "markdown",
   "id": "0f9efc72-7d68-493e-98ba-7b98cbb53953",
   "metadata": {},
   "source": [
    "## Save the Model"
   ]
  },
  {
   "cell_type": "code",
   "execution_count": 95,
   "id": "631c7975-b592-411c-ad05-d12a8ff3a5b9",
   "metadata": {},
   "outputs": [],
   "source": [
    "torch.save(model.state_dict(), 'bert_regression_model.pth')"
   ]
  },
  {
   "cell_type": "markdown",
   "id": "670ae1b6-544a-456f-bda4-95cead9b01c7",
   "metadata": {},
   "source": [
    "## Gradio Application"
   ]
  },
  {
   "cell_type": "code",
   "execution_count": 125,
   "id": "e4dcff6e-eef2-485d-82ed-edb5f538b02b",
   "metadata": {},
   "outputs": [
    {
     "name": "stdout",
     "output_type": "stream",
     "text": [
      "Running on local URL:  http://127.0.0.1:7883\n",
      "\n",
      "To create a public link, set `share=True` in `launch()`.\n"
     ]
    },
    {
     "data": {
      "text/html": [
       "<div><iframe src=\"http://127.0.0.1:7883/\" width=\"100%\" height=\"500\" allow=\"autoplay; camera; microphone; clipboard-read; clipboard-write;\" frameborder=\"0\" allowfullscreen></iframe></div>"
      ],
      "text/plain": [
       "<IPython.core.display.HTML object>"
      ]
     },
     "metadata": {},
     "output_type": "display_data"
    },
    {
     "data": {
      "text/plain": []
     },
     "execution_count": 125,
     "metadata": {},
     "output_type": "execute_result"
    }
   ],
   "source": [
    "import torch\n",
    "from transformers import BertTokenizer\n",
    "from regression_models import BERTRegression\n",
    "\n",
    "max_len = 80\n",
    "\n",
    "# Load tokenizer\n",
    "tokenizer = BertTokenizer.from_pretrained(\"bert-base-uncased\")\n",
    "\n",
    "# Load model architecture\n",
    "bertregressor = BERTRegression()\n",
    "bertregressor.load_state_dict(torch.load('bert_regression_model.pth', map_location=torch.device('cpu')))\n",
    "bertregressor.eval()\n",
    "\n",
    "def predict_price(name, item_condition, category, brand_name, shipping_included, item_description):\n",
    "    print((name, item_condition, category, brand_name, shipping_included, item_description))\n",
    "    # Preprocess Input\n",
    "    if shipping_included:\n",
    "        shipping_str = \"Includes Shipping\"\n",
    "    else:\n",
    "        shipping_str = \"No Shipping\"\n",
    "        \n",
    "    combined = \"Item Name: \" + name + \\\n",
    "            \" Description: \" + item_description + \\\n",
    "            \" Condition: \" + item_condition + \\\n",
    "            \" Category: \" + category + \\\n",
    "            \" Brand \" + brand_name + \\\n",
    "            \" Shipping: \" + shipping_str\n",
    "    \n",
    "    inputs = tokenizer.encode_plus(\n",
    "        combined,\n",
    "        None,\n",
    "        add_special_tokens=True,\n",
    "        max_length=max_len,\n",
    "        padding=\"max_length\",\n",
    "        truncation=True,\n",
    "        return_tensors=\"pt\"\n",
    "    )\n",
    "    \n",
    "    input_ids = inputs[\"input_ids\"]\n",
    "    attention_mask = inputs[\"attention_mask\"]\n",
    "    \n",
    "    with torch.no_grad():\n",
    "        output = bertregressor(input_ids, attention_mask)\n",
    "    \n",
    "    return output.item()\n",
    "\n",
    "    \n",
    "demo = gr.Interface(\n",
    "    \n",
    "    fn = predict_price,\n",
    "    \n",
    "    inputs = [gr.Textbox(label=\"Item Name\"), \n",
    "              gr.Dropdown(['Poor', 'Okay', 'Good', 'Excellent', 'Like New'], label=\"Item Condition\", info=\"What condition is the item in?\"),\n",
    "              gr.Textbox(label=\"Category on Mercari\"),\n",
    "              gr.Textbox(label=\"Brand\"),\n",
    "              gr.Checkbox(label=\"Shipping Included\"),\n",
    "              gr.Textbox(label=\"Description\")\n",
    "             ],\n",
    "    \n",
    "    #outputs = gr.Textbox()\n",
    "    outputs= gr.Number()\n",
    ")\n",
    "\n",
    "\n",
    "demo.launch()"
   ]
  },
  {
   "cell_type": "code",
   "execution_count": 114,
   "id": "cbd57648-aded-4978-8ff0-13672b44b33a",
   "metadata": {},
   "outputs": [
    {
     "name": "stdout",
     "output_type": "stream",
     "text": [
      "('Razer BlackWidow Chroma Keyboard', 'Excellent', 'Electronics/Computers & Tablets/Components', 'Razer', True, 'This keyboard is in great condition')\n",
      "Item Name: Razer BlackWidow Chroma Keyboard Description: This keyboard is in great condition Condition: Excellent Category: Electronics/Computers & Tablets/Components Brand Razer Shipping: Includes Shipping\n"
     ]
    },
    {
     "data": {
      "text/plain": [
       "'Item Name: Razer BlackWidow Chroma Keyboard Description: This keyboard is in great condition Condition: Excellent Category: Electronics/Computers & Tablets/Components Brand Razer Shipping: Includes Shipping'"
      ]
     },
     "execution_count": 114,
     "metadata": {},
     "output_type": "execute_result"
    }
   ],
   "source": [
    "name=\"Razer BlackWidow Chroma Keyboard\"\n",
    "item_condition=\"Excellent\"\n",
    "category= \"Electronics/Computers & Tablets/Components\"\n",
    "brand_name= \"Razer\"\n",
    "shipping_included= True\n",
    "item_description= \"This keyboard is in great condition\" \n",
    "\n",
    "predict_price(name, item_condition, category, brand_name, shipping_included, item_description)"
   ]
  },
  {
   "cell_type": "markdown",
   "id": "39a21c8e-3eae-4e12-bd20-22ac63349cfe",
   "metadata": {},
   "source": []
  },
  {
   "cell_type": "code",
   "execution_count": 69,
   "id": "86e739e2-edd2-447f-8095-3584b953c9ca",
   "metadata": {},
   "outputs": [
    {
     "name": "stdout",
     "output_type": "stream",
     "text": [
      "{'input_ids': tensor([[  101, 23893,  2121,  6598,  2007,  6323, 11687,  4667,   102,     0,\n",
      "             0,     0,     0,     0,     0,     0,     0,     0,     0,     0,\n",
      "             0,     0,     0,     0,     0,     0,     0,     0,     0,     0,\n",
      "             0,     0,     0,     0,     0,     0,     0,     0,     0,     0,\n",
      "             0,     0,     0,     0,     0,     0,     0,     0,     0,     0,\n",
      "             0,     0,     0,     0,     0,     0,     0,     0,     0,     0,\n",
      "             0,     0,     0,     0,     0,     0,     0,     0,     0,     0,\n",
      "             0,     0,     0,     0,     0,     0,     0,     0,     0,     0,\n",
      "             0,     0,     0,     0,     0,     0,     0,     0,     0,     0,\n",
      "             0,     0,     0,     0,     0,     0,     0,     0,     0,     0,\n",
      "             0,     0,     0,     0,     0,     0,     0,     0,     0,     0,\n",
      "             0,     0,     0,     0,     0,     0,     0,     0,     0,     0,\n",
      "             0,     0,     0,     0,     0,     0,     0,     0]]), 'token_type_ids': tensor([[0, 0, 0, 0, 0, 0, 0, 0, 0, 0, 0, 0, 0, 0, 0, 0, 0, 0, 0, 0, 0, 0, 0, 0,\n",
      "         0, 0, 0, 0, 0, 0, 0, 0, 0, 0, 0, 0, 0, 0, 0, 0, 0, 0, 0, 0, 0, 0, 0, 0,\n",
      "         0, 0, 0, 0, 0, 0, 0, 0, 0, 0, 0, 0, 0, 0, 0, 0, 0, 0, 0, 0, 0, 0, 0, 0,\n",
      "         0, 0, 0, 0, 0, 0, 0, 0, 0, 0, 0, 0, 0, 0, 0, 0, 0, 0, 0, 0, 0, 0, 0, 0,\n",
      "         0, 0, 0, 0, 0, 0, 0, 0, 0, 0, 0, 0, 0, 0, 0, 0, 0, 0, 0, 0, 0, 0, 0, 0,\n",
      "         0, 0, 0, 0, 0, 0, 0, 0]]), 'attention_mask': tensor([[1, 1, 1, 1, 1, 1, 1, 1, 1, 0, 0, 0, 0, 0, 0, 0, 0, 0, 0, 0, 0, 0, 0, 0,\n",
      "         0, 0, 0, 0, 0, 0, 0, 0, 0, 0, 0, 0, 0, 0, 0, 0, 0, 0, 0, 0, 0, 0, 0, 0,\n",
      "         0, 0, 0, 0, 0, 0, 0, 0, 0, 0, 0, 0, 0, 0, 0, 0, 0, 0, 0, 0, 0, 0, 0, 0,\n",
      "         0, 0, 0, 0, 0, 0, 0, 0, 0, 0, 0, 0, 0, 0, 0, 0, 0, 0, 0, 0, 0, 0, 0, 0,\n",
      "         0, 0, 0, 0, 0, 0, 0, 0, 0, 0, 0, 0, 0, 0, 0, 0, 0, 0, 0, 0, 0, 0, 0, 0,\n",
      "         0, 0, 0, 0, 0, 0, 0, 0]])}\n"
     ]
    }
   ],
   "source": [
    "x_in = tokenizer.encode(\"Expensive gucci sweatshirt\", return_tensors=\"pt\")\n",
    "\n",
    "x_in = tokenizer.encode_plus(\n",
    "            \"puffer jacket with diamond padding\",\n",
    "            None,\n",
    "            add_special_tokens=True,\n",
    "            max_length=128,\n",
    "            padding=\"max_length\",\n",
    "            truncation=True,\n",
    "            return_tensors=\"pt\"\n",
    "        )\n",
    "print(x_in)"
   ]
  },
  {
   "cell_type": "code",
   "execution_count": 70,
   "id": "aa8fbec1-e2dc-4acb-9a9e-3ac0bf3f53e1",
   "metadata": {},
   "outputs": [
    {
     "data": {
      "text/plain": [
       "tensor([1.0163], grad_fn=<SqueezeBackward1>)"
      ]
     },
     "execution_count": 70,
     "metadata": {},
     "output_type": "execute_result"
    }
   ],
   "source": [
    "model(x_in[\"input_ids\"], x_in[\"attention_mask\"])"
   ]
  },
  {
   "cell_type": "code",
   "execution_count": null,
   "id": "107b5e2f-803a-4e76-9ecc-ee88b441b84a",
   "metadata": {},
   "outputs": [],
   "source": [
    "self.tokenizer.encode_plus(\n",
    "            text,\n",
    "            None,\n",
    "            add_special_tokens=True,\n",
    "            max_length=self.max_len,\n",
    "            padding=\"max_length\",\n",
    "            truncation=True,\n",
    "            return_tensors=\"pt\"\n",
    "        )"
   ]
  },
  {
   "cell_type": "code",
   "execution_count": 46,
   "id": "5b993cf5-f91a-4adf-af2a-bca5282907c0",
   "metadata": {},
   "outputs": [],
   "source": [
    "for x in train_loader:\n",
    "    d = x\n",
    "    in_ = d[\"input_ids\"][3:8]\n",
    "    attn_msk = d[\"attention_mask\"][3:8]\n",
    "    break"
   ]
  },
  {
   "cell_type": "code",
   "execution_count": 47,
   "id": "31897567-5820-4550-863c-a059c28d595e",
   "metadata": {},
   "outputs": [
    {
     "data": {
      "text/plain": [
       "tensor([[1, 1, 1, 1, 1, 1, 1, 1, 1, 1, 1, 1, 1, 1, 1, 1, 1, 1, 1, 1, 1, 1, 1, 1,\n",
       "         1, 1, 1, 1, 1, 1, 1, 1, 1, 0, 0, 0, 0, 0, 0, 0, 0, 0, 0, 0, 0, 0, 0, 0,\n",
       "         0, 0, 0, 0, 0, 0, 0, 0, 0, 0, 0, 0, 0, 0, 0, 0, 0, 0, 0, 0, 0, 0, 0, 0,\n",
       "         0, 0, 0, 0, 0, 0, 0, 0, 0, 0, 0, 0, 0, 0, 0, 0, 0, 0, 0, 0, 0, 0, 0, 0,\n",
       "         0, 0, 0, 0, 0, 0, 0, 0, 0, 0, 0, 0, 0, 0, 0, 0, 0, 0, 0, 0, 0, 0, 0, 0,\n",
       "         0, 0, 0, 0, 0, 0, 0, 0],\n",
       "        [1, 1, 1, 1, 1, 1, 1, 1, 1, 1, 1, 1, 1, 1, 1, 1, 1, 1, 1, 1, 1, 1, 1, 1,\n",
       "         1, 1, 1, 1, 1, 1, 1, 1, 1, 1, 1, 1, 1, 1, 1, 1, 1, 1, 1, 1, 1, 1, 1, 1,\n",
       "         1, 1, 1, 1, 1, 1, 0, 0, 0, 0, 0, 0, 0, 0, 0, 0, 0, 0, 0, 0, 0, 0, 0, 0,\n",
       "         0, 0, 0, 0, 0, 0, 0, 0, 0, 0, 0, 0, 0, 0, 0, 0, 0, 0, 0, 0, 0, 0, 0, 0,\n",
       "         0, 0, 0, 0, 0, 0, 0, 0, 0, 0, 0, 0, 0, 0, 0, 0, 0, 0, 0, 0, 0, 0, 0, 0,\n",
       "         0, 0, 0, 0, 0, 0, 0, 0],\n",
       "        [1, 1, 1, 1, 1, 1, 1, 1, 1, 1, 1, 1, 1, 1, 1, 1, 1, 1, 1, 1, 1, 1, 1, 1,\n",
       "         1, 1, 1, 1, 1, 1, 1, 1, 1, 1, 1, 1, 1, 1, 1, 1, 1, 1, 1, 1, 1, 0, 0, 0,\n",
       "         0, 0, 0, 0, 0, 0, 0, 0, 0, 0, 0, 0, 0, 0, 0, 0, 0, 0, 0, 0, 0, 0, 0, 0,\n",
       "         0, 0, 0, 0, 0, 0, 0, 0, 0, 0, 0, 0, 0, 0, 0, 0, 0, 0, 0, 0, 0, 0, 0, 0,\n",
       "         0, 0, 0, 0, 0, 0, 0, 0, 0, 0, 0, 0, 0, 0, 0, 0, 0, 0, 0, 0, 0, 0, 0, 0,\n",
       "         0, 0, 0, 0, 0, 0, 0, 0],\n",
       "        [1, 1, 1, 1, 1, 1, 1, 1, 1, 1, 1, 1, 1, 1, 1, 1, 1, 1, 1, 1, 1, 1, 1, 1,\n",
       "         1, 1, 1, 1, 1, 1, 1, 1, 1, 1, 1, 1, 1, 1, 1, 1, 1, 1, 1, 1, 1, 1, 1, 1,\n",
       "         1, 1, 1, 1, 1, 1, 1, 1, 1, 1, 1, 1, 1, 1, 1, 1, 1, 1, 1, 1, 1, 1, 1, 1,\n",
       "         1, 1, 1, 1, 1, 1, 1, 1, 1, 1, 1, 1, 1, 1, 1, 1, 1, 1, 1, 1, 1, 0, 0, 0,\n",
       "         0, 0, 0, 0, 0, 0, 0, 0, 0, 0, 0, 0, 0, 0, 0, 0, 0, 0, 0, 0, 0, 0, 0, 0,\n",
       "         0, 0, 0, 0, 0, 0, 0, 0],\n",
       "        [1, 1, 1, 1, 1, 1, 1, 1, 1, 1, 1, 1, 1, 1, 1, 1, 1, 1, 1, 1, 1, 1, 1, 1,\n",
       "         1, 1, 1, 1, 1, 1, 1, 1, 1, 1, 1, 1, 1, 1, 1, 1, 1, 1, 1, 1, 0, 0, 0, 0,\n",
       "         0, 0, 0, 0, 0, 0, 0, 0, 0, 0, 0, 0, 0, 0, 0, 0, 0, 0, 0, 0, 0, 0, 0, 0,\n",
       "         0, 0, 0, 0, 0, 0, 0, 0, 0, 0, 0, 0, 0, 0, 0, 0, 0, 0, 0, 0, 0, 0, 0, 0,\n",
       "         0, 0, 0, 0, 0, 0, 0, 0, 0, 0, 0, 0, 0, 0, 0, 0, 0, 0, 0, 0, 0, 0, 0, 0,\n",
       "         0, 0, 0, 0, 0, 0, 0, 0]])"
      ]
     },
     "execution_count": 47,
     "metadata": {},
     "output_type": "execute_result"
    }
   ],
   "source": [
    "d[\"attention_mask\"][3:8]"
   ]
  },
  {
   "cell_type": "code",
   "execution_count": 48,
   "id": "a42d1cc7-21bd-4ca5-b1d2-a1c39302079b",
   "metadata": {},
   "outputs": [
    {
     "data": {
      "text/plain": [
       "tensor([1.9241, 1.6717, 1.9484, 1.9869, 1.9255], grad_fn=<SqueezeBackward1>)"
      ]
     },
     "execution_count": 48,
     "metadata": {},
     "output_type": "execute_result"
    }
   ],
   "source": [
    "model(in_, attn_msk) "
   ]
  }
 ],
 "metadata": {
  "kernelspec": {
   "display_name": "Python 3 (ipykernel)",
   "language": "python",
   "name": "python3"
  },
  "language_info": {
   "codemirror_mode": {
    "name": "ipython",
    "version": 3
   },
   "file_extension": ".py",
   "mimetype": "text/x-python",
   "name": "python",
   "nbconvert_exporter": "python",
   "pygments_lexer": "ipython3",
   "version": "3.12.2"
  }
 },
 "nbformat": 4,
 "nbformat_minor": 5
}
